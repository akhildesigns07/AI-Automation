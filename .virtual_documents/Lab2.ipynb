import pandas as pd


housing_raw_data = pd.read_csv('D:/hv.se/AI/handson-ml2/datasets/housing/housing.csv')


housing_raw_data.head()


housing_raw_data.drop("ocean_proximity", axis=1, inplace = True)


from sklearn.impute import SimpleImputer
from sklearn.pipeline import Pipeline
from sklearn.preprocessing import StandardScaler

numerical_pipeline = Pipeline([
 ('imputer', SimpleImputer(strategy="median")),
 ('std_scaler', StandardScaler()),
 ])

housing_prepared_num = numerical_pipeline.fit_transform(housing_raw_data)

housing_raw_data_Without_NaN = pd.DataFrame(housing_prepared_num, columns=housing_raw_data.columns)
housing_raw_data_Without_NaN


housing = housing_raw_data_Without_NaN.drop("median_house_value",axis=1)


housing_labels = housing_raw_data_Without_NaN["median_house_value"]


from sklearn.model_selection import train_test_split



x_train, x_test, y_train, y_test = train_test_split(housing, housing_labels, test_size = 0.2, random_state=100)



from sklearn.linear_model import LinearRegression


lr = LinearRegression()
lr.fit(x_train, y_train)


y_lr_train = lr.predict(x_train)
y_lr_test = lr.predict(x_test)



from sklearn.metrics import mean_squared_error, r2_score
lr_train_mse = mean_squared_error(y_train, y_lr_train)
lr_train_r2 = r2_score(y_train, y_lr_train)



lr_test_mse = mean_squared_error(y_test, y_lr_test)
lr_test_r2 = r2_score(y_test, y_lr_test)


lr_train_mse


lr_test_mse


lr_results = pd.DataFrame(['Linear regression', lr_train_mse, lr_train_r2, lr_test_mse, lr_test_r2]).transpose()
lr_results.columns = ['Method', 'Training MSE', 'Training R2', 'Test MSE', 'Test R2']
lr_results




from sklearn.ensemble import RandomForestRegressor
rf = RandomForestRegressor(max_depth=2, random_state=100)
rf.fit(x_train, y_train)


y_rf_train = rf.predict(x_train)
y_rf_test = rf.predict(x_test)
rf_train_mse = mean_squared_error(y_train, y_rf_train)
rf_train_r2 = r2_score(y_train, y_rf_train)

rf_test_mse = mean_squared_error(y_test, y_rf_test)
rf_test_r2 = r2_score(y_test, y_rf_test)


rf_results = pd.DataFrame(['Radom Forest regression', rf_train_mse, rf_train_r2, rf_test_mse, rf_test_r2]).transpose()
rf_results.columns = ['Method', 'Training MSE', 'Training R2', 'Test MSE', 'Test R2']
rf_results


df_model = pd.concat([lr_results, rf_results], axis = 0)
df_model


from sklearn.tree import DecisionTreeRegressor
dt = DecisionTreeRegressor(max_depth=2, random_state=100)
dt.fit(x_train, y_train)

y_dt_train = dt.predict(x_train)
y_dt_test = dt.predict(x_test)
dt_train_mse = mean_squared_error(y_train, y_dt_train)
dt_train_r2 = r2_score(y_train, y_dt_train)

dt_test_mse = mean_squared_error(y_test, y_dt_test)
dt_test_r2 = r2_score(y_test, y_dt_test)
dt_results = pd.DataFrame(['Decision tree regression', dt_train_mse, dt_train_r2, dt_test_mse, dt_test_r2]).transpose()
dt_results.columns = ['Method', 'Training MSE', 'Training R2', 'Test MSE', 'Test R2']
dt_results



df_model = pd.concat([lr_results, rf_results, dt_results ], axis = 0).reset_index()
df_model


from sklearn.svm import SVR
svr = SVR()
svr.fit(x_train, y_train)

y_svr_train = svr.predict(x_train)
y_svr_test = svr.predict(x_test)
svr_train_mse = mean_squared_error(y_train, y_svr_train)
svr_train_r2 = r2_score(y_train, y_svr_train)

svr_test_mse = mean_squared_error(y_test, y_svr_test)
svr_test_r2 = r2_score(y_test, y_svr_test)
svr_results = pd.DataFrame(['Support vector machine regression', svr_train_mse, svr_train_r2, svr_test_mse, svr_test_r2]).transpose()
svr_results.columns = ['Method', 'Training MSE', 'Training R2', 'Test MSE', 'Test R2']
svr_results



df_model = pd.concat([svr_results, lr_results, rf_results, dt_results  ], axis = 0).reset_index()
df_model



import matplotlib.pyplot as plt
import numpy as np
methods = ['SVR', 'Linear Regression', 'Random Forest', 'Decision Tree']
training_mse = [0.239669, 0.368815, 0.537534, 0.554493]
test_mse = [0.230771, 0.347101, 0.530809, 0.548697]
plt.figure(figsize=(10, 5))
x = np.arange(len(methods))
bar_width = 0.2
plt.bar(x - bar_width/2, training_mse, width=bar_width, label='Training MSE', color='Grey')
plt.bar(x + bar_width/2, test_mse, width=bar_width, label='Test MSE', color='black')

plt.xlabel('Regression Methods')
plt.ylabel('Mean Squared Error')
plt.title('MSE Comparison')
plt.xticks(x, methods)
plt.legend()
plt.grid(axis='y')
plt.ylim(0, 1)

plt.tight_layout()
plt.show()



