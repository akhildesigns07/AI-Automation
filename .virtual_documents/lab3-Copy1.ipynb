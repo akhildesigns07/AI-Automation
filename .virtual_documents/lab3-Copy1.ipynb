import pandas as pd
from sklearn.impute import SimpleImputer
from sklearn.pipeline import Pipeline
from sklearn.preprocessing import StandardScaler
from sklearn.model_selection import train_test_split, GridSearchCV, RandomizedSearchCV
from sklearn.linear_model import LinearRegression
from sklearn.ensemble import RandomForestRegressor
from sklearn.tree import DecisionTreeRegressor
from sklearn.svm import SVR
from sklearn.metrics import mean_squared_error, r2_score

housing_raw_data = pd.read_csv('D:/hv.se/AI/handson-ml2/datasets/housing/housing.csv')
housing_raw_data.drop("ocean_proximity", axis=1, inplace = True)
numerical_pipeline = Pipeline([
 ('imputer', SimpleImputer(strategy="median")),
 ('std_scaler', StandardScaler()),
 ])

housing_prepared_num = numerical_pipeline.fit_transform(housing_raw_data)

housing_raw_data_Without_NaN = pd.DataFrame(housing_prepared_num, columns=housing_raw_data.columns)
housing = housing_raw_data_Without_NaN.drop("median_house_value",axis=1)
housing_labels = housing_raw_data_Without_NaN["median_house_value"]
x_train, x_test, y_train, y_test = train_test_split(housing, housing_labels, test_size = 0.2, random_state=100)




svr_grid = [
        {'kernel': ['linear'], 'C': [10., 30., 100., 300., 1000., 3000., 10000., 30000.0]},
        {'kernel': ['rbf'], 'C': [1.0, 3.0, 10., 30., 100., 300., 1000.0],
         'gamma': [0.01, 0.03, 0.1, 0.3, 1.0, 3.0]},
    ]


def tune_model(model, param_grid, search_type='grid'):
    if search_type == 'grid':
        search = GridSearchCV(model, param_grid, cv=5, scoring='neg_mean_squared_error')
    else:
        search = RandomizedSearchCV(model, param_grid, n_iter=50, cv=5, scoring='neg_mean_squared_error', random_state=42)
    
    search.fit(x_train, y_train)
    return search


linear_params = {}



linear_model = LinearRegression()
linear_search_grid = tune_model(linear_model, linear_params, search_type='grid')

svm_model = SVR()
svm_search_grid = tune_model(svm_model, svr_grid, search_type='grid')
svm_search_random = tune_model(svm_model, svr_grid, search_type='random')


def evaluate_model(model, x_test, y_test):
    y_pred = model.predict(x_test)
    mse = mean_squared_error(y_test, y_pred)
    r2 = r2_score(y_test, y_pred)
    return mse, r2

# Evaluate all tuned models
results = {
    'Linear Regression': (linear_search_grid, linear_search_grid.best_params_)
     ,
    # 'Decision Tree (Grid)': (dt_search_grid, dt_search_grid.best_params_),
    # 'Decision Tree (Random)': (dt_search_random, dt_search_random.best_params_),
    # 'Random Forest (Grid)': (rf_search_grid, rf_search_grid.best_params_),
    # 'Random Forest (Random)': (rf_search_random, rf_search_random.best_params_),
     'SVM (Grid)': (svm_search_grid, svm_search_grid.best_params_),
     'SVM (Random)': (svm_search_random, svm_search_random.best_params_)
}

for name, (model, params) in results.items():
    mse, r2 = evaluate_model(model.best_estimator_, x_test, y_test)
    print(f"{name}: Best Params: {params}, MSE: {mse:.4f}, R²: {r2:.4f}")



