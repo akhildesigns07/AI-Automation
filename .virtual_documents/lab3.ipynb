import pandas as pd
from sklearn.impute import SimpleImputer
from sklearn.pipeline import Pipeline
from sklearn.preprocessing import StandardScaler
from sklearn.model_selection import train_test_split
from sklearn.linear_model import LinearRegression
from sklearn.ensemble import RandomForestRegressor
from sklearn.tree import DecisionTreeRegressor
from sklearn.svm import SVR
housing_raw_data = pd.read_csv('D:/hv.se/AI/handson-ml2/datasets/housing/housing.csv')
housing_raw_data.drop("ocean_proximity", axis=1, inplace = True)
numerical_pipeline = Pipeline([
 ('imputer', SimpleImputer(strategy="median")),
 ('std_scaler', StandardScaler()),
 ])

housing_prepared_num = numerical_pipeline.fit_transform(housing_raw_data)

housing_raw_data_Without_NaN = pd.DataFrame(housing_prepared_num, columns=housing_raw_data.columns)
housing = housing_raw_data_Without_NaN.drop("median_house_value",axis=1)
housing_labels = housing_raw_data_Without_NaN["median_house_value"]
x_train, x_test, y_train, y_test = train_test_split(housing, housing_labels, test_size = 0.2, random_state=100)




from sklearn.model_selection import GridSearchCV

param_grid = [
 {'n_estimators': [3, 10, 30], 'max_features': [2, 4, 6, 8]},
 {'bootstrap': [False], 'n_estimators': [3, 10], 'max_features': [2, 3, 4]},
 ]
forest_reg = RandomForestRegressor()
grid_search = GridSearchCV(forest_reg, param_grid, cv=5,
 scoring='neg_mean_squared_error',
return_train_score=True)
grid_search.fit(x_train, y_train)


best_params = grid_search.best_params_
print("Best Hyperparameters:", best_params)



results = grid_search.cv_results_
import numpy as np
for mean_score, params in zip(results['mean_test_score'], results['params']):
   # print(f"Mean Test Score: {mean_score:.3f} for {params}")
    print(np.sqrt(-mean_score), params)


best_model = grid_search.best_estimator_
y_pred = best_model.predict(x_test)

from sklearn.metrics import mean_squared_error, r2_score

mse = mean_squared_error(y_test, y_pred)
r2 = r2_score(y_test, y_pred)

print(f"Mean Squared Error: {mse:.2f}")
print(f"R² Score: {r2:.2f}")


from sklearn.model_selection import RandomizedSearchCV
param_grid = [
 {'n_estimators': [3, 10, 30], 'max_features': [2, 4, 6, 8]},
 {'bootstrap': [False], 'n_estimators': [3, 10], 'max_features': [2, 3, 4]},
 ]
randomized_search = RandomizedSearchCV(forest_reg, param_grid, n_iter=18, cv=5)
randomized_search.fit(x_train, y_train)




best_params_random = randomized_search.best_params_
print("Best Hyperparameters Random:", best_params_random)


print("Grid Search Best Params:", grid_search.best_params_)
print("Randomized Search Best Params:", randomized_search.best_params_)
