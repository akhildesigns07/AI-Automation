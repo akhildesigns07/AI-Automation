import pandas as pd

url = 'https://raw.githubusercontent.com/ageron/handson-ml2/master/datasets/housing/housing.csv'
housing = pd.read_csv(url)


features = housing[['longitude', 'latitude', 'median_income']]



from sklearn.preprocessing import StandardScaler
scaler = StandardScaler()
scaled_features = scaler.fit_transform(features)



from sklearn.cluster import KMeans

kmeans = KMeans(n_clusters=5, random_state=42)
kmeans.fit(scaled_features)

clusters = kmeans.labels_



housing['cluster'] = clusters
housing[['longitude', 'latitude', 'median_income', 'cluster']].head()


import matplotlib.pyplot as plt

# Plot clusters
plt.figure(figsize=(10, 6))
plt.scatter(housing['longitude'], housing['latitude'], c=housing['cluster'], cmap='viridis', marker='o', edgecolor='k')
plt.xlabel('Longitude')
plt.ylabel('Latitude')
plt.title('K-Means Clustering of California Housing Data')
plt.show()


print(f'Inertia: {kmeans.inertia_}')



from sklearn.metrics import silhouette_score

# Function to run K-Means and calculate silhouette score
def find_optimal_clusters(data, max_k):
    silhouette_scores = []
    for k in range(2, max_k+1):
        kmeans = KMeans(n_clusters=k, random_state=42)
        kmeans.fit(data)
        labels = kmeans.labels_
        silhouette = silhouette_score(data, labels)
        silhouette_scores.append(silhouette)
        print(f'k={k}, Silhouette Score={silhouette}')
    return silhouette_scores

# Run K-Means with k from 2 to 10
silhouette_scores = find_optimal_clusters(scaled_features, 10)

# Plot silhouette scores to find the optimal k
plt.plot(range(2, 11), silhouette_scores, marker='o')
plt.title('Silhouette Score for Different k Values')
plt.xlabel('Number of clusters k')
plt.ylabel('Silhouette Score')
plt.show()



import seaborn as sns

# Apply K-Means with the optimal number of clusters (let's assume k=4 from silhouette analysis)
kmeans = KMeans(n_clusters=2, random_state=42)
kmeans.fit(scaled_features)
housing['Cluster'] = kmeans.labels_

# Visualize clusters on a scatter plot
plt.figure(figsize=(10, 6))
sns.scatterplot(x='longitude', y='latitude', hue='Cluster', data=housing, palette='viridis')
plt.title('K-Means Clustering of California Housing Data k = 2')
plt.show()



kmeans = KMeans(n_clusters=3, random_state=42)
kmeans.fit(scaled_features)
housing['Cluster'] = kmeans.labels_

# Visualize clusters on a scatter plot
plt.figure(figsize=(10, 6))
sns.scatterplot(x='longitude', y='latitude', hue='Cluster', data=housing, palette='viridis')
plt.title('K-Means Clustering of California Housing Data k = 3')
plt.show()



kmeans = KMeans(n_clusters=6, random_state=42)
kmeans.fit(scaled_features)
housing['Cluster'] = kmeans.labels_

# Visualize clusters on a scatter plot
plt.figure(figsize=(10, 6))
sns.scatterplot(x='longitude', y='latitude', hue='Cluster', data=housing, palette='viridis')
plt.title('K-Means Clustering of California Housing Data k = 6')
plt.show()



kmeans = KMeans(n_clusters=7, random_state=42)
kmeans.fit(scaled_features)
housing['Cluster'] = kmeans.labels_

# Visualize clusters on a scatter plot
plt.figure(figsize=(10, 6))
sns.scatterplot(x='longitude', y='latitude', hue='Cluster', data=housing, palette='viridis')
plt.title('K-Means Clustering of California Housing Data k = 7')
plt.show()




