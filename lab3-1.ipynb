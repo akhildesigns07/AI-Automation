{
 "cells": [
  {
   "cell_type": "code",
   "execution_count": 1,
   "id": "b7cbd34b-d2de-4eff-b16a-5d34c16464c8",
   "metadata": {
    "editable": true,
    "slideshow": {
     "slide_type": ""
    },
    "tags": []
   },
   "outputs": [],
   "source": [
    "import pandas as pd\n",
    "from sklearn.impute import SimpleImputer\n",
    "from sklearn.pipeline import Pipeline\n",
    "from sklearn.preprocessing import StandardScaler\n",
    "from sklearn.model_selection import train_test_split, GridSearchCV, RandomizedSearchCV\n",
    "from sklearn.linear_model import LinearRegression\n",
    "from sklearn.ensemble import RandomForestRegressor\n",
    "from sklearn.tree import DecisionTreeRegressor\n",
    "from sklearn.svm import SVR\n",
    "from sklearn.metrics import mean_squared_error, r2_score\n",
    "\n",
    "housing_raw_data = pd.read_csv('D:/hv.se/AI/handson-ml2/datasets/housing/housing.csv')\n",
    "housing_raw_data.drop(\"ocean_proximity\", axis=1, inplace = True)\n",
    "numerical_pipeline = Pipeline([\n",
    " ('imputer', SimpleImputer(strategy=\"median\")),\n",
    " ('std_scaler', StandardScaler()),\n",
    " ])\n",
    "\n",
    "housing_prepared_num = numerical_pipeline.fit_transform(housing_raw_data)\n",
    "\n",
    "housing_raw_data_Without_NaN = pd.DataFrame(housing_prepared_num, columns=housing_raw_data.columns)\n",
    "housing = housing_raw_data_Without_NaN.drop(\"median_house_value\",axis=1)\n",
    "housing_labels = housing_raw_data_Without_NaN[\"median_house_value\"]\n",
    "x_train, x_test, y_train, y_test = train_test_split(housing, housing_labels, test_size = 0.2, random_state=100)\n",
    "\n"
   ]
  },
  {
   "cell_type": "code",
   "execution_count": 2,
   "id": "d13fcab7-ba79-4ec9-99e5-8b1748333bfe",
   "metadata": {},
   "outputs": [],
   "source": [
    "param_grid_svr = {\n",
    "    'C': [1, 10],\n",
    "    'epsilon': [0.1, 0.5],\n",
    "    'kernel': ['linear', 'rbf'],\n",
    "    'gamma': ['scale']\n",
    "}"
   ]
  },
  {
   "cell_type": "code",
   "execution_count": 3,
   "id": "10003e2f-72a0-4243-a3f7-2c14ef5db68e",
   "metadata": {},
   "outputs": [],
   "source": [
    "param_grid_dt = {\n",
    "    'max_depth': [3, 5, 10],\n",
    "    'min_samples_split': [5, 10],\n",
    "    'min_samples_leaf': [2, 4],\n",
    "    'max_features': ['sqrt', 'log2']\n",
    "}\n"
   ]
  },
  {
   "cell_type": "code",
   "execution_count": 4,
   "id": "b38046f6-929b-4fc4-8c7c-21ab1b9bdfb7",
   "metadata": {},
   "outputs": [],
   "source": [
    "param_grid_rf = {\n",
    "    'n_estimators': [50, 100],\n",
    "    'max_depth': [10, 20],\n",
    "    'min_samples_split': [5, 10],\n",
    "    'min_samples_leaf': [2, 4],\n",
    "    'max_features': ['sqrt', 'log2']\n",
    "}"
   ]
  },
  {
   "cell_type": "code",
   "execution_count": 5,
   "id": "5279d3cb-ede8-4d1f-afc4-3b05f7034c83",
   "metadata": {},
   "outputs": [],
   "source": [
    "def tune_model(model, param_grid, search_type='grid'):\n",
    "    if search_type == 'grid':\n",
    "        search = GridSearchCV(model, param_grid, cv=5, scoring='neg_mean_squared_error')\n",
    "    else:\n",
    "        search = RandomizedSearchCV(model, param_grid, n_iter=24, cv=5, scoring='neg_mean_squared_error', random_state=42)\n",
    "    \n",
    "    search.fit(x_train, y_train)\n",
    "    return search"
   ]
  },
  {
   "cell_type": "code",
   "execution_count": 6,
   "id": "6c95416a-9057-45bc-9333-61493ccac980",
   "metadata": {},
   "outputs": [],
   "source": [
    "linear_params = {}\n"
   ]
  },
  {
   "cell_type": "code",
   "execution_count": 7,
   "id": "a160e6a9-1371-4df6-91e5-d978fad7c643",
   "metadata": {},
   "outputs": [
    {
     "name": "stderr",
     "output_type": "stream",
     "text": [
      "C:\\Users\\Akhil R\\anaconda3\\Lib\\site-packages\\sklearn\\model_selection\\_search.py:318: UserWarning: The total space of parameters 8 is smaller than n_iter=24. Running 8 iterations. For exhaustive searches, use GridSearchCV.\n",
      "  warnings.warn(\n"
     ]
    }
   ],
   "source": [
    "linear_model = LinearRegression()\n",
    "linear_search_grid = tune_model(linear_model, linear_params, search_type='grid')\n",
    "\n",
    "svm_model = SVR()\n",
    "svm_search_grid = tune_model(svm_model, param_grid_svr, search_type='grid')\n",
    "svm_search_random = tune_model(svm_model, param_grid_svr, search_type='random')\n",
    "\n",
    "dt_model = DecisionTreeRegressor()\n",
    "dt_search_grid = tune_model(dt_model, param_grid_dt, search_type='grid')\n",
    "dt_search_random = tune_model(dt_model, param_grid_dt, search_type='random')\n",
    "\n",
    "rf_model = RandomForestRegressor()\n",
    "rf_search_grid = tune_model(rf_model, param_grid_rf, search_type='grid')\n",
    "rf_search_random = tune_model(rf_model, param_grid_rf, search_type='random')"
   ]
  },
  {
   "cell_type": "code",
   "execution_count": 9,
   "id": "d327d4be-62c5-460e-b4d4-c44967d7baa7",
   "metadata": {},
   "outputs": [
    {
     "name": "stdout",
     "output_type": "stream",
     "text": [
      "Linear Regression: Best Params: {}, MSE: 0.3471, R²: 0.6570\n",
      "Decision Tree (Grid): Best Params: {'max_depth': 10, 'max_features': 'log2', 'min_samples_leaf': 4, 'min_samples_split': 10}, MSE: 0.3464, R²: 0.6577\n",
      "Decision Tree (Random): Best Params: {'min_samples_split': 5, 'min_samples_leaf': 4, 'max_features': 'log2', 'max_depth': 10}, MSE: 0.3566, R²: 0.6476\n",
      "Random Forest (Grid): Best Params: {'max_depth': 20, 'max_features': 'log2', 'min_samples_leaf': 2, 'min_samples_split': 5, 'n_estimators': 50}, MSE: 0.1760, R²: 0.8261\n",
      "Random Forest (Random): Best Params: {'n_estimators': 100, 'min_samples_split': 5, 'min_samples_leaf': 2, 'max_features': 'log2', 'max_depth': 20}, MSE: 0.1769, R²: 0.8252\n",
      "SVM (Grid): Best Params: {'C': 10, 'epsilon': 0.1, 'gamma': 'scale', 'kernel': 'rbf'}, MSE: 0.2144, R²: 0.7881\n",
      "SVM (Random): Best Params: {'kernel': 'rbf', 'gamma': 'scale', 'epsilon': 0.1, 'C': 10}, MSE: 0.2144, R²: 0.7881\n"
     ]
    }
   ],
   "source": [
    "def evaluate_model(model, x_test, y_test):\n",
    "    y_pred = model.predict(x_test)\n",
    "    mse = mean_squared_error(y_test, y_pred)\n",
    "    r2 = r2_score(y_test, y_pred)\n",
    "    return mse, r2\n",
    "\n",
    "results = {\n",
    "    'Linear Regression': (linear_search_grid, linear_search_grid.best_params_),\n",
    "    'Decision Tree (Grid)': (dt_search_grid, dt_search_grid.best_params_),\n",
    "    'Decision Tree (Random)': (dt_search_random, dt_search_random.best_params_),\n",
    "    'Random Forest (Grid)': (rf_search_grid, rf_search_grid.best_params_),\n",
    "    'Random Forest (Random)': (rf_search_random, rf_search_random.best_params_),\n",
    "    'SVM (Grid)': (svm_search_grid, svm_search_grid.best_params_),\n",
    "    'SVM (Random)': (svm_search_random, svm_search_random.best_params_)\n",
    "}\n",
    "\n",
    "for name, (model, params) in results.items():\n",
    "    mse, r2 = evaluate_model(model.best_estimator_, x_test, y_test)\n",
    "    print(f\"{name}: Best Params: {params}, MSE: {mse:.4f}, R²: {r2:.4f}\")"
   ]
  },
  {
   "cell_type": "code",
   "execution_count": 15,
   "id": "d03392c9-914d-4fb0-86b6-50a65127f3bb",
   "metadata": {},
   "outputs": [],
   "source": [
    "evaluation_results = []\n",
    "\n",
    "for name, (model, params) in results.items():\n",
    "    mse, r2 = evaluate_model(model.best_estimator_, x_test, y_test)\n",
    "    evaluation_results.append({\n",
    "        'Model': name,\n",
    "        'Best Params': params,\n",
    "        'MSE': mse,\n",
    "        'R²': r2\n",
    "    })\n",
    "results_df = pd.DataFrame(evaluation_results)\n"
   ]
  },
  {
   "cell_type": "code",
   "execution_count": 16,
   "id": "a08c8bd2-f8c8-4933-8560-c794e6ef6283",
   "metadata": {},
   "outputs": [
    {
     "name": "stdout",
     "output_type": "stream",
     "text": [
      "                 Model                                                                                                   Best Params      MSE       R²\n",
      "     Linear Regression                                                                                                            {} 0.347101 0.656981\n",
      "  Decision Tree (Grid)                     {'max_depth': 10, 'max_features': 'log2', 'min_samples_leaf': 4, 'min_samples_split': 10} 0.346398 0.657676\n",
      "Decision Tree (Random)                      {'min_samples_split': 5, 'min_samples_leaf': 4, 'max_features': 'log2', 'max_depth': 10} 0.356589 0.647605\n",
      "  Random Forest (Grid)  {'max_depth': 20, 'max_features': 'log2', 'min_samples_leaf': 2, 'min_samples_split': 5, 'n_estimators': 50} 0.175990 0.826080\n",
      "Random Forest (Random) {'n_estimators': 100, 'min_samples_split': 5, 'min_samples_leaf': 2, 'max_features': 'log2', 'max_depth': 20} 0.176928 0.825153\n",
      "            SVM (Grid)                                                  {'C': 10, 'epsilon': 0.1, 'gamma': 'scale', 'kernel': 'rbf'} 0.214378 0.788143\n",
      "          SVM (Random)                                                  {'kernel': 'rbf', 'gamma': 'scale', 'epsilon': 0.1, 'C': 10} 0.214378 0.788143\n"
     ]
    }
   ],
   "source": [
    "\n",
    "\n",
    "print(results_df.to_string(index=False))\n"
   ]
  },
  {
   "cell_type": "code",
   "execution_count": 30,
   "id": "2c161f09-e420-4ffa-93b0-648a452a46ad",
   "metadata": {
    "scrolled": true
   },
   "outputs": [
    {
     "data": {
      "image/png": "[encoded data removed]",
      "text/plain": [
       "<Figure size 1000x600 with 1 Axes>"
      ]
     },
     "metadata": {},
     "output_type": "display_data"
    }
   ],
   "source": [
    "import numpy as np\n",
    "import matplotlib.pyplot as plt\n",
    "\n",
    "models = ['Linear Regression', 'SVR', 'Decision Tree Regressor', 'Random Forest Regressor']\n",
    "\n",
    "rmse_grid = [0.347, 0.214, 0.347, 0.176]\n",
    "rmse_random = [0.347, 0.214, 0.357, 0.177]\n",
    "bar_width = 0.3\n",
    "x = np.arange(len(models))  # the label locations\n",
    "\n",
    "fig, ax = plt.subplots(figsize=(10,6))\n",
    "\n",
    "bar1 = ax.bar(x - bar_width/2, rmse_grid, bar_width, label='RMSE (Grid Search)', color='red')\n",
    "bar2 = ax.bar(x + bar_width/2, rmse_random, bar_width, label='RMSE (Random Search)', color='yellow')\n",
    "\n",
    "ax.set_xlabel('Regression Models')\n",
    "ax.set_ylabel('RMSE')\n",
    "ax.set_title('Comparison of RMSE across different models')\n",
    "ax.set_xticks(x)\n",
    "ax.set_xticklabels(models)\n",
    "ax.legend()\n",
    "\n",
    "# Function to add values on top of the bars\n",
    "def add_values(bar):\n",
    "    for rect in bar:\n",
    "        height = rect.get_height()\n",
    "        ax.annotate(f'{height:.2f}',\n",
    "                    xy=(rect.get_x() + rect.get_width() / 2, height),\n",
    "                    xytext=(0, 3),  # 3 points vertical offset\n",
    "                    textcoords=\"offset points\",\n",
    "                    ha='center', va='bottom')\n",
    "\n",
    "add_values(bar1)\n",
    "add_values(bar2)\n",
    "\n",
    "# Show the plot\n",
    "plt.tight_layout()\n",
    "plt.show()\n"
   ]
  },
  {
   "cell_type": "code",
   "execution_count": 35,
   "id": "5c40e702-3e81-497a-8458-6513a638d1a5",
   "metadata": {},
   "outputs": [
    {
     "name": "stdout",
     "output_type": "stream",
     "text": [
      "Test Set MSE: 0.17887699113961514\n"
     ]
    }
   ],
   "source": [
    "best_rf_model = RandomForestRegressor(\n",
    "    max_depth=20,\n",
    "    max_features='log2',\n",
    "    min_samples_leaf=2,\n",
    "    min_samples_split=5,\n",
    "    n_estimators=50\n",
    ")\n",
    "best_rf_model.fit(x_train, y_train)\n",
    "y_pred_test = best_rf_model.predict(x_test)\n",
    "mse_test = mean_squared_error(y_test, y_pred_test)\n",
    "r2_test = r2_score(y_test, y_pred_test)\n",
    "print(f\"Test Set MSE: {mse_test}\")\n",
    "\n"
   ]
  },
  {
   "cell_type": "code",
   "execution_count": null,
   "id": "c48f98c0-c428-4c25-8844-dd8296c85a70",
   "metadata": {},
   "outputs": [],
   "source": []
  }
 ],
 "metadata": {
  "kernelspec": {
   "display_name": "Python 3 (ipykernel)",
   "language": "python",
   "name": "python3"
  },
  "language_info": {
   "codemirror_mode": {
    "name": "ipython",
    "version": 3
   },
   "file_extension": ".py",
   "mimetype": "text/x-python",
   "name": "python",
   "nbconvert_exporter": "python",
   "pygments_lexer": "ipython3",
   "version": "3.12.4"
  }
 },
 "nbformat": 4,
 "nbformat_minor": 5
}
